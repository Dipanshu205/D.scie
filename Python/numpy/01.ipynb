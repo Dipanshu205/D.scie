{
 "cells": [
  {
   "cell_type": "markdown",
   "id": "a9931347",
   "metadata": {},
   "source": [
    "## Nummy array and basics"
   ]
  },
  {
   "cell_type": "code",
   "execution_count": 4,
   "id": "f265b3b7",
   "metadata": {},
   "outputs": [],
   "source": [
    "import numpy as np"
   ]
  },
  {
   "cell_type": "markdown",
   "id": "557b81a8",
   "metadata": {},
   "source": [
    "## creating array from list"
   ]
  },
  {
   "cell_type": "code",
   "execution_count": 5,
   "id": "84a9aeab",
   "metadata": {},
   "outputs": [
    {
     "name": "stdout",
     "output_type": "stream",
     "text": [
      "1D array: [1 2 3 4 5]\n",
      "2D array:\n",
      " [[1 2 3]\n",
      " [4 5 6]]\n"
     ]
    }
   ],
   "source": [
    "arr_1d = np.array([1, 2, 3, 4, 5])\n",
    "print(\"1D array:\", arr_1d)\n",
    "\n",
    "arr_2D = np.array([[1, 2, 3], [4, 5, 6]])\n",
    "print(\"2D array:\\n\", arr_2D)"
   ]
  },
  {
   "cell_type": "markdown",
   "id": "d5038b72",
   "metadata": {},
   "source": [
    "## List vs nupy array"
   ]
  },
  {
   "cell_type": "code",
   "execution_count": null,
   "id": "31033463",
   "metadata": {},
   "outputs": [
    {
     "name": "stdout",
     "output_type": "stream",
     "text": [
      "python list multiplication [1, 2, 3, 1, 2, 3]\n",
      "python array multiplication [2 4 6]\n"
     ]
    }
   ],
   "source": [
    "py_list = [1,2,3]\n",
    "print(\"python list multiplication\", py_list * 2)\n",
    "\n",
    "np_array = np.array([1,2,3])  # element wise multipication\n",
    "print(\"python array multiplication\", np_array * 2)\n"
   ]
  },
  {
   "cell_type": "code",
   "execution_count": null,
   "id": "eb32d699",
   "metadata": {},
   "outputs": [
    {
     "data": {
      "text/plain": [
       "array([ 0,  1,  2,  3,  4,  5,  6,  7,  8,  9, 10, 11, 12, 13, 14, 15, 16,\n",
       "       17, 18, 19, 20, 21, 22, 23, 24])"
      ]
     },
     "execution_count": 9,
     "metadata": {},
     "output_type": "execute_result"
    }
   ],
   "source": [
    "np_array = np.arange(25)\n",
    "# np_array = np.arange(250000)\n",
    "np_array"
   ]
  },
  {
   "cell_type": "markdown",
   "id": "67adb114",
   "metadata": {},
   "source": [
    "## creating arrays from scratch"
   ]
  },
  {
   "cell_type": "code",
   "execution_count": 20,
   "id": "4284a3ed",
   "metadata": {},
   "outputs": [
    {
     "name": "stdout",
     "output_type": "stream",
     "text": [
      "zeros array: \n",
      " [[0. 0. 0. 0.]\n",
      " [0. 0. 0. 0.]\n",
      " [0. 0. 0. 0.]]\n",
      "ones array: \n",
      " [[1. 1. 1.]\n",
      " [1. 1. 1.]]\n",
      "constants \n",
      " [[7 7 7 7]\n",
      " [7 7 7 7]]\n",
      "\n",
      " [[0.80102003 0.0727922  0.50611992]\n",
      " [0.5625938  0.88473956 0.93188929]]\n",
      "Sequence \n",
      " [0 2 4 6 8]\n"
     ]
    }
   ],
   "source": [
    "zeros = np.zeros((3,4))\n",
    "print(\"zeros array: \\n\", zeros)\n",
    "\n",
    "ones = np.ones((2,3))\n",
    "print(\"ones array: \\n\", ones)\n",
    "\n",
    "full = np.full((2,4), 7)\n",
    "print(\"constants \\n\",full)\n",
    "\n",
    "random = np.random.random((2,3))\n",
    "print(\"\\n\",random)\n",
    "\n",
    "sequence = np.arange(0,10,2)\n",
    "print(\"Sequence \\n\", sequence)\n"
   ]
  },
  {
   "cell_type": "markdown",
   "id": "cbe787fe",
   "metadata": {},
   "source": [
    "## vector, matrix and tensor"
   ]
  },
  {
   "cell_type": "code",
   "execution_count": null,
   "id": "04f56850",
   "metadata": {},
   "outputs": [],
   "source": []
  },
  {
   "cell_type": "code",
   "execution_count": null,
   "id": "bbeeaab6",
   "metadata": {},
   "outputs": [
    {
     "name": "stdout",
     "output_type": "stream",
     "text": [
      "Vector [1 2 3]\n",
      "Matrix: \n",
      " [[1 2 3]\n",
      " [4 5 6]]\n",
      "Tensor: \n",
      " [[[1 2]\n",
      "  [3 4]]\n",
      "\n",
      " [[5 6]\n",
      "  [7 8]]]\n"
     ]
    }
   ],
   "source": [
    "vector = np.array([1,2,3])\n",
    "\n",
    "print(\"Vector\", vector)\n",
    "\n",
    "matrix = np.array([[1,2,3],\n",
    "                   [4,5,6]])\n",
    "print(\"Matrix: \\n\", matrix)\n",
    "\n",
    "tensor = np.array([[[1,2], [3,4]],               # 3D\n",
    "                   [[5,6],[7,8]]])\n",
    "print(\"Tensor: \\n\", tensor)\n"
   ]
  },
  {
   "cell_type": "markdown",
   "id": "e00fde75",
   "metadata": {},
   "source": [
    "## Array properties"
   ]
  },
  {
   "cell_type": "code",
   "execution_count": 28,
   "id": "1584ac3c",
   "metadata": {},
   "outputs": [
    {
     "name": "stdout",
     "output_type": "stream",
     "text": [
      "Shape  (2, 3)\n",
      "Dimension  2\n",
      "size  6\n",
      "Dtype int64\n"
     ]
    }
   ],
   "source": [
    "arr = np.array([[1,2,3],\n",
    "                [4,5,6]])\n",
    "print(\"Shape \", arr.shape)\n",
    "print(\"Dimension \", arr.ndim)\n",
    "print(\"size \", arr.size)\n",
    "print(\"Dtype\", arr.dtype)"
   ]
  },
  {
   "cell_type": "markdown",
   "id": "1a264dc6",
   "metadata": {},
   "source": [
    "## Array reshaping"
   ]
  },
  {
   "cell_type": "code",
   "execution_count": 34,
   "id": "0dfcfe01",
   "metadata": {},
   "outputs": [
    {
     "name": "stdout",
     "output_type": "stream",
     "text": [
      "Original array [ 0  1  2  3  4  5  6  7  8  9 10 11]\n",
      "reshaped array [[ 0  1  2  3]\n",
      " [ 4  5  6  7]\n",
      " [ 8  9 10 11]]\n",
      "Flattened array [ 0  1  2  3  4  5  6  7  8  9 10 11]\n",
      "raveled array [ 0  1  2  3  4  5  6  7  8  9 10 11]\n",
      "Transpose: \n",
      " [[ 0  4  8]\n",
      " [ 1  5  9]\n",
      " [ 2  6 10]\n",
      " [ 3  7 11]]\n"
     ]
    }
   ],
   "source": [
    "arr = np.arange(12)\n",
    "print(\"Original array\", arr)\n",
    "\n",
    "reshaped = arr.reshape((3,4))\n",
    "print(\"reshaped array\", reshaped)\n",
    "\n",
    "flattened = reshaped.flatten()\n",
    "print(\"Flattened array\", flattened)\n",
    "\n",
    "# ravel (returns view instead of copy).   means returns original data instead of its updated copy\n",
    "\n",
    "raveled = reshaped.ravel()\n",
    "print(\"raveled array\", raveled)\n",
    "\n",
    "# Transpose\n",
    "transpose = reshaped.T\n",
    "print(\"Transpose: \\n\", transpose)"
   ]
  },
  {
   "cell_type": "markdown",
   "id": "fd6beea6",
   "metadata": {},
   "source": []
  },
  {
   "cell_type": "code",
   "execution_count": null,
   "id": "68713ca5",
   "metadata": {},
   "outputs": [],
   "source": []
  }
 ],
 "metadata": {
  "kernelspec": {
   "display_name": ".venv",
   "language": "python",
   "name": "python3"
  },
  "language_info": {
   "codemirror_mode": {
    "name": "ipython",
    "version": 3
   },
   "file_extension": ".py",
   "mimetype": "text/x-python",
   "name": "python",
   "nbconvert_exporter": "python",
   "pygments_lexer": "ipython3",
   "version": "3.13.5"
  }
 },
 "nbformat": 4,
 "nbformat_minor": 5
}
